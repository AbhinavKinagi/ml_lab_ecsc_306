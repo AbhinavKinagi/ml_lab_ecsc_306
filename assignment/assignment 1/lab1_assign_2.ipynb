{
 "cells": [
  {
   "cell_type": "markdown",
   "metadata": {
    "slideshow": {
     "slide_type": "slide"
    }
   },
   "source": [
    "Write a program using tensorflow to calculate : \n",
    "    $$y=mx+c$$"
   ]
  },
  {
   "cell_type": "markdown",
   "metadata": {
    "slideshow": {
     "slide_type": "slide"
    }
   },
   "source": [
    "### Part 1\n",
    "\n",
    "1. Read 2 arrays x,y containing floating point values\n",
    "2. Calculate mean of x & y\n",
    "3. Calculate variance for x\n",
    "    $$variance(x)=sum((x-mean(x))^2)$$\n",
    "4. Calculate covariance of x & y\n",
    "    $$covariance = sum((x(i) - mean(x)) * (y(i) - mean(y)))$$\n",
    "5. Calculate value of m\n",
    "    $$m = covariance(x,y)/variance(x)$$\n",
    "6. Calculate value of c\n",
    "    $$c = mean(y) -m* mean(x)$$\n",
    "    "
   ]
  },
  {
   "cell_type": "code",
   "execution_count": 28,
   "metadata": {},
   "outputs": [
    {
     "name": "stdout",
     "output_type": "stream",
     "text": [
      "MEAN of X\t:\t 3.48\n",
      "MEAN of Y\t:\t 3.2\n",
      "VARIANCE of X\t:\t 10.588\n",
      "VARIANCE of Y\t:\t 9.26\n",
      "COVRIANCE of X&Y:\t 2.405\n",
      "SLOPE\t\t:\t 0.227144\n",
      "INTERCEPT\t:\t 2.40954\n"
     ]
    }
   ],
   "source": [
    "import tensorflow as tf\n",
    "import matplotlib.pyplot as plt\n",
    "import numpy as np\n",
    "\n",
    "#Read 2 arrays x,y containing floating point values\n",
    "with tf.name_scope('input'):\n",
    "    y=[1.3,2.0,3.6,4.1,5.0]\n",
    "    x=[1.2,2.8,3.5,4.4,5.5]\n",
    "    array_x = tf.constant(x, name='x', dtype=tf.float32)         \n",
    "    array_y = tf.constant(y, name='y', dtype=tf.float32)\n",
    "\n",
    "with tf.name_scope('means'):\n",
    "#Calculate mean of x & y\n",
    "    x_mean = tf.reduce_mean(array_x)\n",
    "    y_mean = tf.reduce_mean(array_y)\n",
    "\n",
    "with tf.name_scope('variance_x'):\n",
    "#Calculate variance for x\n",
    "    x_var1 = tf.subtract(array_x,x_mean)\n",
    "    x_var2 = tf.square(x_var1)\n",
    "    x_variance = tf.reduce_sum(x_var2)\n",
    "\n",
    "with tf.name_scope('variance_y'):\n",
    "#Calculate variance for y\n",
    "    y_var1 = tf.subtract(array_y,y_mean)\n",
    "    y_var2 = tf.square(y_var1)\n",
    "    y_variance = tf.reduce_sum(y_var2)\n",
    "\n",
    "with tf.name_scope('covariance'):\n",
    "#Calculate  covariance of x & y\n",
    "    covar1 = tf.multiply(x_var1,y_var1)\n",
    "    covar2 = tf.reduce_sum(covar1)\n",
    "    covariance = tf.divide(covar2,4)\n",
    "\n",
    "with tf.name_scope('slope'):\n",
    "    #Calculate value of m\n",
    "    m=tf.divide(covariance,x_variance)\n",
    "\n",
    "with tf.name_scope('constant'):\n",
    "    #Calculate value of c\n",
    "    c1=tf.multiply(m,x_mean)\n",
    "    c=tf.subtract(y_mean,c1)\n",
    "\n",
    "with tf.Session() as sess6:\n",
    "    writer = tf.summary.FileWriter(\"/tmp/tboard/mx1\", sess6.graph)\n",
    "    print(\"MEAN of X\\t:\\t\",sess6.run(x_mean))\n",
    "    print(\"MEAN of Y\\t:\\t\",sess6.run(y_mean))\n",
    "    print(\"VARIANCE of X\\t:\\t\",sess6.run(x_variance))\n",
    "    print(\"VARIANCE of Y\\t:\\t\",sess6.run(y_variance))\n",
    "    print(\"COVRIANCE of X&Y:\\t\",sess6.run(covariance))\n",
    "    print(\"SLOPE\\t\\t:\\t\",sess6.run(m))\n",
    "    print(\"INTERCEPT\\t:\\t\",sess6.run(c))\n",
    "    writer.close()"
   ]
  },
  {
   "cell_type": "raw",
   "metadata": {
    "slideshow": {
     "slide_type": "slide"
    }
   },
   "source": [
    "### Part 2\n",
    "\n",
    "1. Plot graph for actual values against predicted value\n",
    "2. Calculate root mean square error."
   ]
  },
  {
   "cell_type": "code",
   "execution_count": 31,
   "metadata": {},
   "outputs": [
    {
     "data": {
      "image/png": "[encoded data removed]",
      "text/plain": [
       "<matplotlib.figure.Figure at 0x7f0083d08ac8>"
      ]
     },
     "metadata": {},
     "output_type": "display_data"
    }
   ],
   "source": [
    "#Plot graph for actual values against predicted value\n",
    "\n",
    "array_x = np.asarray(x)\n",
    "array_y = np.asarray(y)\n",
    "\n",
    "Fit = np.polyfit(array_x,array_y,1)\n",
    "funFit = np.poly1d(Fit)\n",
    "\n",
    "plt.plot(array_x,array_y,\"yo\",array_x,funFit(array_x),\"--k\")\n",
    "plt.show()\n",
    "\n",
    "\n"
   ]
  },
  {
   "cell_type": "code",
   "execution_count": 32,
   "metadata": {},
   "outputs": [
    {
     "name": "stdout",
     "output_type": "stream",
     "text": [
      "0.447214\n"
     ]
    }
   ],
   "source": [
    "#Calculate root mean square error.\n",
    "\n",
    "with tf.name_scope(\"Root_Mean_Square_error\"):    \n",
    "    rmse= tf.sqrt(tf.reduce_mean(tf.squared_difference(x, y)))    \n",
    "    with tf.Session() as sess:\n",
    "        print(sess.run(rmse))\n"
   ]
  }
 ],
 "metadata": {
  "celltoolbar": "Slideshow",
  "kernelspec": {
   "display_name": "Python 3",
   "language": "python",
   "name": "python3"
  },
  "language_info": {
   "codemirror_mode": {
    "name": "ipython",
    "version": 3
   },
   "file_extension": ".py",
   "mimetype": "text/x-python",
   "name": "python",
   "nbconvert_exporter": "python",
   "pygments_lexer": "ipython3",
   "version": "3.6.1"
  }
 },
 "nbformat": 4,
 "nbformat_minor": 2
}
