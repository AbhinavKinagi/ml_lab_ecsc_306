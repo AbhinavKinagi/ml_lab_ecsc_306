{
 "cells": [
  {
   "cell_type": "code",
   "execution_count": 1,
   "metadata": {},
   "outputs": [
    {
     "name": "stdout",
     "output_type": "stream",
     "text": [
      "49\n"
     ]
    }
   ],
   "source": [
    "import tensorflow as tf\n",
    "import numpy as np\n",
    "\n",
    "a = tf.constant(3)\n",
    "b = tf.constant(4)\n",
    "a_squ = tf.multiply(a,a,name=\"square_a\")\n",
    "b_squ = tf.multiply(b,b,name=\"square_b\")\n",
    "comp = tf.multiply(2,a,name=\"2a\")\n",
    "full = tf.multiply(comp,b,name=\"full\")\n",
    "result = a_squ+b_squ+full\n",
    "\n",
    "with tf.Session() as sess1:\n",
    "    writer = tf.summary.FileWriter(\"/tmp/tboard/1\", sess1.graph)\n",
    "    print(sess1.run(result))\n",
    "    writer.close()"
   ]
  },
  {
   "cell_type": "code",
   "execution_count": 7,
   "metadata": {},
   "outputs": [
    {
     "name": "stdout",
     "output_type": "stream",
     "text": [
      "315\n"
     ]
    }
   ],
   "source": [
    "import tensorflow as tf\n",
    "import numpy as n\n",
    "\n",
    "a=tf.constant(3)\n",
    "b=tf.constant(4)\n",
    "a_sq=tf.multiply(a,a,name=\"a_square\")\n",
    "b_sq=tf.multiply(a,a,name=\"b_square\")\n",
    "a_cub=tf.multiply(a,a_sq,name=\"a_cube\")\n",
    "b_cub=tf.multiply(b,b_sq,name=\"b_cube\")\n",
    "comp=tf.multiply(3,a,name=\"3a\")\n",
    "comp1=tf.multiply(comp,b,name=\"3ab\")\n",
    "add=tf.add(a,b,name=\"sum\")\n",
    "comp2=tf.multiply(comp1,add,name=\"product\")\n",
    "resultt=a_cub+b_cub+comp2\n",
    "\n",
    "\n",
    "with tf.Session() as sess3:\n",
    "    writer = tf.summary.FileWriter(\"/tmp/tboard/2\", sess3.graph)\n",
    "    print(sess3.run(resultt))\n",
    "    writer.close()"
   ]
  }
 ],
 "metadata": {
  "kernelspec": {
   "display_name": "Python 3",
   "language": "python",
   "name": "python3"
  },
  "language_info": {
   "codemirror_mode": {
    "name": "ipython",
    "version": 3
   },
   "file_extension": ".py",
   "mimetype": "text/x-python",
   "name": "python",
   "nbconvert_exporter": "python",
   "pygments_lexer": "ipython3",
   "version": "3.6.1"
  }
 },
 "nbformat": 4,
 "nbformat_minor": 2
}
