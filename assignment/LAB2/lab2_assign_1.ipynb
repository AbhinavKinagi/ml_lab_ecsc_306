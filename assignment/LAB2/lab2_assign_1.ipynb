{
 "cells": [
  {
   "cell_type": "markdown",
   "metadata": {
    "slideshow": {
     "slide_type": "slide"
    }
   },
   "source": [
    "Write a program using tensorflow to build a stochastic gradient descent model for linear regression"
   ]
  },
  {
   "cell_type": "markdown",
   "metadata": {
    "slideshow": {
     "slide_type": "slide"
    }
   },
   "source": [
    "Part 1\n",
    "1. Co-effiecients m &c for y=mx+c are calculated for given values from previous assignment\n",
    "2. Start with 0 (zero ) value for  m & c .\n",
    "3. Using cost function \n",
    "$$J(\\beta) = \\frac{1}{2m}\\sum_{i=1}^m(h_\\beta(x^{(i)})-y^{(i)})^2$$\n",
    "where $(h_\\beta(x^{(i)})$ is prediction for present iteration\n",
    "$y^{(i)}$ is the prediction obtained from y=mx+c value\n",
    "4. Find the values of m & c by updating the values with learning rate of 0.005, 0.0005 etc and epoch value 100,500,1000\n",
    "\n"
   ]
  },
  {
   "cell_type": "code",
   "execution_count": 10,
   "metadata": {},
   "outputs": [
    {
     "name": "stdout",
     "output_type": "stream",
     "text": [
      "VALUE OF THETA0\t:\t 0.0381565\n",
      "VALUE OF THETA1\t:\t 0.908576\n",
      "HYPOTHESIS\t:\t [ 1.12844741  2.58216858  3.2181716   4.03588963  5.03532314]\n",
      "COST FUNCTION\t:\t 1.14355\n"
     ]
    }
   ],
   "source": [
    "##1.Co-effiecients m &c for y=mx+c are calculated for given values from previous assignment\n",
    "import tensorflow as tf\n",
    "import tensorflow as tf\n",
    "import matplotlib.pyplot as plt\n",
    "import numpy as np\n",
    "\n",
    "#Read 2 arrays x,y containing floating point values\n",
    "with tf.name_scope('input'):\n",
    "    y=[1.3,2.0,3.6,4.1,5.0]\n",
    "    x=[1.2,2.8,3.5,4.4,5.5]\n",
    "    array_x = tf.constant(x, name='x', dtype=tf.float32)         \n",
    "    array_y = tf.constant(y, name='y', dtype=tf.float32)\n",
    "\n",
    "with tf.name_scope('means'):\n",
    "#Calculate mean of x & y\n",
    "    x_mean = tf.reduce_mean(array_x)\n",
    "    y_mean = tf.reduce_mean(array_y)\n",
    "\n",
    "with tf.name_scope('variance_x'):\n",
    "#Calculate variance for x\n",
    "    x_var1 = tf.subtract(array_x,x_mean)\n",
    "    x_var2 = tf.square(x_var1)\n",
    "    x_variance = tf.reduce_sum(x_var2)\n",
    "\n",
    "with tf.name_scope('variance_y'):\n",
    "#Calculate variance for y\n",
    "    y_var1 = tf.subtract(array_y,y_mean)\n",
    "    y_var2 = tf.square(y_var1)\n",
    "    y_variance = tf.reduce_sum(y_var2)\n",
    "\n",
    "with tf.name_scope('covariance'):\n",
    "#Calculate  covariance of x & y\n",
    "    covar1 = tf.multiply(x_var1,y_var1)\n",
    "    covar2 = tf.reduce_sum(covar1)\n",
    "    covariance = tf.divide(covar2,4)\n",
    "\n",
    "with tf.name_scope('slope'):\n",
    "    #Calculate value of m\n",
    "    m=tf.divide(covariance,x_variance)\n",
    "\n",
    "with tf.name_scope('constant'):\n",
    "    #Calculate value of c\n",
    "    c1=tf.multiply(m,x_mean)\n",
    "    c=tf.subtract(y_mean,c1)\n",
    "\n",
    "##3.Using cost function\n",
    "    \n",
    "with tf.name_scope('Hypothesis'):\n",
    "    #calculate the value of theta1\n",
    "    x_val = tf.subtract(array_x,x_mean)\n",
    "    y_val = tf.subtract(array_y,y_mean)\n",
    "    numer = tf.reduce_sum(tf.multiply(x_val,y_val))\n",
    "    denom = tf.reduce_sum(tf.square(x_val))\n",
    "    theta1 = tf.divide(numer,denom)\n",
    "    #calculate the value of theta0\n",
    "    theta0 = tf.subtract(y_mean,tf.multiply(theta1,x_mean))\n",
    "    h = tf.add(theta0,tf.multiply(theta1,array_x))\n",
    "    \n",
    "with tf.name_scope('Cost_Function'):\n",
    "    #calculate the value of J(theta)\n",
    "    numer1 = tf.reduce_sum(tf.square(tf.subtract(h,array_y)))\n",
    "    a = tf.constant(2,name='a',dtype=tf.float32)\n",
    "    denom1 = tf.multiply(a,m)\n",
    "    j = tf.divide(numer1,denom1)\n",
    "  \n",
    "with tf.Session() as sess6:\n",
    "    writer = tf.summary.FileWriter(\"/tmp/tboard/mx1\", sess6.graph)\n",
    "    print(\"VALUE OF THETA0\\t:\\t\",sess6.run(theta0))\n",
    "    print(\"VALUE OF THETA1\\t:\\t\",sess6.run(theta1))\n",
    "    print(\"HYPOTHESIS\\t:\\t\",sess6.run(h))\n",
    "    print(\"COST FUNCTION\\t:\\t\",sess6.run(j))\n",
    "    writer.close()\n",
    "    \n",
    "    "
   ]
  },
  {
   "cell_type": "markdown",
   "metadata": {
    "slideshow": {
     "slide_type": "slide"
    }
   },
   "source": [
    "Part 2\n",
    "1. Display the graph of decreasing cost function wrt learning rate and epoch\n",
    "2. Compare time complexity of tensorflow api and user defined function\n",
    "3. Start with random values of m & c . Analyse best approach for initial values of m & c.\n"
   ]
  }
 ],
 "metadata": {
  "celltoolbar": "Slideshow",
  "kernelspec": {
   "display_name": "Python 3",
   "language": "python",
   "name": "python3"
  },
  "language_info": {
   "codemirror_mode": {
    "name": "ipython",
    "version": 3
   },
   "file_extension": ".py",
   "mimetype": "text/x-python",
   "name": "python",
   "nbconvert_exporter": "python",
   "pygments_lexer": "ipython3",
   "version": "3.6.1"
  }
 },
 "nbformat": 4,
 "nbformat_minor": 2
}
